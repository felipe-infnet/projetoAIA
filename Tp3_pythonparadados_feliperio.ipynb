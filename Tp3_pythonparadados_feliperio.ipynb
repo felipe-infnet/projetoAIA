{
  "nbformat": 4,
  "nbformat_minor": 0,
  "metadata": {
    "colab": {
      "provenance": [],
      "authorship_tag": "ABX9TyPfNQAk4uhbsT8cNBQv6lyd",
      "include_colab_link": true
    },
    "kernelspec": {
      "name": "python3",
      "display_name": "Python 3"
    },
    "language_info": {
      "name": "python"
    }
  },
  "cells": [
    {
      "cell_type": "markdown",
      "metadata": {
        "id": "view-in-github",
        "colab_type": "text"
      },
      "source": [
        "<a href=\"https://colab.research.google.com/github/felipe-infnet/projetoAIA/blob/main/Tp3_pythonparadados_feliperio.ipynb\" target=\"_parent\"><img src=\"https://colab.research.google.com/assets/colab-badge.svg\" alt=\"Open In Colab\"/></a>"
      ]
    },
    {
      "cell_type": "code",
      "source": [
        "#Questao 1\n",
        "texto = \"\"\"\n",
        "As motocicletas são máquinas incríveis que vêm em muitas formas e tamanhos. Uma das características mais distintas de uma motocicleta é o seu motor, especificamente o número e a disposição dos seus cilindros.\n",
        "\n",
        "Existem motocicletas com apenas um cilindro. Estas são geralmente encontradas em motos de menor cilindrada, sendo conhecidas pela sua simplicidade e eficiência.\n",
        "\n",
        "As motocicletas com dois cilindros são bastante comuns e vêm em várias configurações. Uma configuração popular é a de \"dois cilindros em linha\", onde os cilindros estão lado a lado. Outra é a configuração \"V-Twin\" (ou \"2 em V\"), onde os cilindros estão dispostos em um ângulo um em relação ao outro. As Ducatis, por exemplo, são famosas por usar esta configuração.\n",
        "\n",
        "Há também as motocicletas com três cilindros, que oferecem um equilíbrio entre potência e suavidade. Estes motores são conhecidos por sua queima de 120 graus, que ajuda a suavizar a entrega de potência.\n",
        "\n",
        "Por fim, temos as motocicletas com quatro cilindros, que são frequentemente encontradas em motos esportivas de alta performance. Estes podem vir na configuração \"L4\" (quatro cilindros em linha) ou \"V4\" (quatro cilindros em V). Estes motores são conhecidos por sua potência e torque elevados.\n",
        "\n",
        "Cada configuração de cilindro tem suas próprias características únicas de potência e torque. Em geral, motores com mais cilindros podem gerar mais potência, enquanto motores com menos cilindros são geralmente mais eficientes e mais fáceis de manter.\n",
        "\"\"\"\n",
        "\n",
        "# Salvando em um arquivo *.txt\n",
        "with open('texto.txt', 'w') as f:\n",
        "    f.write(texto)"
      ],
      "metadata": {
        "id": "Ovtq9lVcJI_j"
      },
      "execution_count": 1,
      "outputs": []
    },
    {
      "cell_type": "code",
      "source": [
        "# Carregando o txt como variável\n",
        "with open('texto.txt', 'r') as f:\n",
        "    texto_carregado = f.read()"
      ],
      "metadata": {
        "id": "mBPXf0b-MVdq"
      },
      "execution_count": 3,
      "outputs": []
    },
    {
      "cell_type": "code",
      "source": [
        "# Aplicando um dicionário de palavras sinônimas\n",
        "dicionario_sinonimos = {\n",
        "    'motocicletas': 'motos',\n",
        "    'cilindros': 'câmaras',\n",
        "    'configuração': 'arranjo',\n",
        "    'potência': 'força',\n",
        "    'torque': 'binário'\n",
        "}"
      ],
      "metadata": {
        "id": "CMt--zQBMoEi"
      },
      "execution_count": 4,
      "outputs": []
    },
    {
      "cell_type": "code",
      "source": [
        "for palavra, sinonimo in dicionario_sinonimos.items():\n",
        "    texto_carregado = texto_carregado.replace(palavra, sinonimo)"
      ],
      "metadata": {
        "id": "Ywz4AJf1M0EZ"
      },
      "execution_count": 5,
      "outputs": []
    },
    {
      "cell_type": "code",
      "source": [
        "# Salvando a string modificada em um novo *.txt\n",
        "with open('texto_modificado.txt', 'w') as f:\n",
        "    f.write(texto_carregado)"
      ],
      "metadata": {
        "id": "mp6o__qnNaJs"
      },
      "execution_count": 6,
      "outputs": []
    },
    {
      "cell_type": "code",
      "source": [
        "# Questao 2 - pessoas famosas da TV\n",
        "import csv\n",
        "\n",
        "# Lista de pessoas famosas com peso e altura\n",
        "pessoas_famosas = [\n",
        "    ['Xuxa', 57, 1.75],\n",
        "    ['Faustão', 105, 1.75],\n",
        "    ['Ana Maria Braga', 62, 1.63],\n",
        "    ['Luciano Huck', 72, 1.82],\n",
        "    ['Angélica', 54, 1.66],\n",
        "    ['Gugu Liberato', 85, 1.78],\n",
        "    ['Hebe Camargo', 59, 1.60],\n",
        "    ['Silvio Santos', 85, 1.83],\n",
        "    ['Fernanda Lima', 56, 1.73],\n",
        "    ['Rodrigo Faro', 78, 1.83]\n",
        "]"
      ],
      "metadata": {
        "id": "-ZiJvnifOXtS"
      },
      "execution_count": 7,
      "outputs": []
    },
    {
      "cell_type": "code",
      "source": [
        "# Salvando a lista em um arquivo .csv\n",
        "with open('pessoas_famosas.csv', 'w', newline='') as f:\n",
        "    writer = csv.writer(f)\n",
        "    writer.writerow(['Nome', 'Peso (kg)', 'Altura (m)'])\n",
        "    writer.writerows(pessoas_famosas)"
      ],
      "metadata": {
        "id": "K1oY0jeuOv-s"
      },
      "execution_count": 8,
      "outputs": []
    },
    {
      "cell_type": "code",
      "source": [
        "# Carregando o arquivo .csv e calculando o IMC\n",
        "with open('pessoas_famosas.csv', 'r') as f:\n",
        "    reader = csv.reader(f)\n",
        "    next(reader)  # Ignorando o cabeçalho\n",
        "    pessoas_famosas = list(reader)"
      ],
      "metadata": {
        "id": "hhaJx5k7O402"
      },
      "execution_count": 9,
      "outputs": []
    },
    {
      "cell_type": "code",
      "source": [
        "for pessoa in pessoas_famosas:\n",
        "    nome, peso, altura = pessoa[0], float(pessoa[1]), float(pessoa[2])\n",
        "    imc = peso / (altura ** 2)\n",
        "    if imc < 18.5:\n",
        "        classificacao = 'De frente tá de lado'\n",
        "    elif 18.5 <= imc < 25:\n",
        "        classificacao = 'Peso normal'\n",
        "    elif 25 <= imc < 30:\n",
        "        classificacao = 'Sobrepeso'\n",
        "    else:\n",
        "        classificacao = 'Novo Planeta'\n",
        "    pessoa.append(imc)\n",
        "    pessoa.append(classificacao)"
      ],
      "metadata": {
        "id": "zEEsUjXpPUB8"
      },
      "execution_count": 10,
      "outputs": []
    },
    {
      "cell_type": "code",
      "source": [
        "# Escrevendo um novo arquivo .csv com o IMC e a classificação do que será incluído no meu processo no tribunal =P\n",
        "with open('pessoas_famosas_imc.csv', 'w', newline='') as f:\n",
        "    writer = csv.writer(f)\n",
        "    writer.writerow(['Nome', 'Peso (kg)', 'Altura (m)', 'IMC', 'Classificação'])\n",
        "    writer.writerows(pessoas_famosas)"
      ],
      "metadata": {
        "id": "xF2jGsvNPqdk"
      },
      "execution_count": 11,
      "outputs": []
    },
    {
      "cell_type": "code",
      "source": [
        "#QUestao 3 - dramaturgia\n",
        "import json\n",
        "\n",
        "# Estrutura de dados\n",
        "dados = {\n",
        "    'Nelson Rodrigues': {\n",
        "        'Vestido de Noiva': {'Livraria Cultura': 120, 'Livraria da Vila': 85},\n",
        "        'Álbum de Família': {'Livraria Cultura': 200, 'Livraria da Vila': 150},\n",
        "        'Perdoa-me por Me Traíres': {'Livraria Cultura': 180, 'Livraria da Vila': 130},\n",
        "        'Os Sete Gatinhos': {'Livraria Cultura': 210, 'Livraria da Vila': 160},\n",
        "        'Boca de Ouro': {'Livraria Cultura': 240, 'Livraria da Vila': 190}\n",
        "    },\n",
        "    'Ariano Suassuna': {\n",
        "        'O Auto da Compadecida': {'Livraria Cultura': 300, 'Livraria da Vila': 250},\n",
        "        'O Santo e a Porca': {'Livraria Cultura': 280, 'Livraria da Vila': 230},\n",
        "        'O Homem da Vaca e o Poder da Fortuna': {'Livraria Cultura': 260, 'Livraria da Vila': 210},\n",
        "        'A Pena e a Lei': {'Livraria Cultura': 240, 'Livraria da Vila': 190},\n",
        "        'Farsa da Boa Preguiça': {'Livraria Cultura': 220, 'Livraria da Vila': 170}\n",
        "    },\n",
        "    'Dias Gomes': {\n",
        "        'O Bem Amado': {'Livraria Cultura': 200, 'Livraria da Vila': 150},\n",
        "        'Roque Santeiro': {'Livraria Cultura': 220, 'Livraria da Vila': 170},\n",
        "        'O Pagador de Promessas': {'Livraria Cultura': 240, 'Livraria da Vila': 190},\n",
        "        'Saramandaia': {'Livraria Cultura': 260, 'Livraria da Vila': 210},\n",
        "        'O Rei do Gado': {'Livraria Cultura': 280, 'Livraria da Vila': 230}\n",
        "    },\n",
        "    'Jorge Amado': {\n",
        "        'Gabriela, Cravo e Canela': {'Livraria Cultura': 300, 'Livraria da Vila': 250},\n",
        "        'Dona Flor e Seus Dois Maridos': {'Livraria Cultura': 320, 'Livraria da Vila': 270},\n",
        "        'Tieta do Agreste': {'Livraria Cultura': 340, 'Livraria da Vila': 290},\n",
        "        'Tenda dos Milagres': {'Livraria Cultura': 360, 'Livraria da Vila': 310}\n",
        "    },\n",
        "    'Érico Veríssimo': {\n",
        "        'O Tempo e o Vento': {'Livraria Cultura': 380, 'Livraria da Vila': 330},\n",
        "        'Incidente em Antares': {'Livraria Cultura': 400, 'Livraria da Vila': 350},\n",
        "        'Música ao Longe': {'Livraria Cultura': 420, 'Livraria da Vila': 370},\n",
        "        'Um Lugar ao Sol': {'Livraria Cultura': 440, 'Livraria da Vila': 390},\n",
        "        'Olhai os Lírios do Campo': {'Livraria Cultura': 460, 'Livraria da Vila': 410}\n",
        "    }\n",
        "}\n"
      ],
      "metadata": {
        "id": "Xj6u-8gIQcGs"
      },
      "execution_count": 12,
      "outputs": []
    },
    {
      "cell_type": "code",
      "source": [
        "# Escrevendo um arquivo .json\n",
        "with open('livros.json', 'w') as f:\n",
        "    json.dump(dados, f)\n",
        "\n",
        "# Carregando o arquivo .json\n",
        "with open('livros.json', 'r') as f:\n",
        "    dados_carregados = json.load(f)"
      ],
      "metadata": {
        "id": "2gDpgzu1Q8Ra"
      },
      "execution_count": 13,
      "outputs": []
    },
    {
      "cell_type": "code",
      "source": [
        "# Atualizando um número de unidades vendidas\n",
        "dados_carregados['Nelson Rodrigues']['Vestido de Noiva']['Livraria Cultura'] += 10\n",
        "\n",
        "# Atualizando o arquivo .json\n",
        "with open('livros.json', 'w') as f:\n",
        "    json.dump(dados_carregados, f)"
      ],
      "metadata": {
        "id": "ZVsY_zpmRX4b"
      },
      "execution_count": 14,
      "outputs": []
    },
    {
      "cell_type": "code",
      "source": [
        "#Questao 4 - Abalone\n",
        "import pandas as pd\n",
        "\n",
        "# Definindo os nomes das colunas\n",
        "colunas = ['Sex', 'Length', 'Diameter', 'Height', 'Whole weight', 'Shucked weight', 'Viscera weight', 'Shell weight', 'Rings']"
      ],
      "metadata": {
        "id": "Sa3AXFA_R5H3"
      },
      "execution_count": 15,
      "outputs": []
    },
    {
      "cell_type": "code",
      "source": [
        "# Carregando a base de dados\n",
        "df = pd.read_csv('https://raw.githubusercontent.com/jbrownlee/Datasets/master/abalone.csv', names=colunas)"
      ],
      "metadata": {
        "id": "iAi8TTSLSiPn"
      },
      "execution_count": 16,
      "outputs": []
    },
    {
      "cell_type": "code",
      "source": [
        "# Apresentando a base de dados\n",
        "print(df.head())"
      ],
      "metadata": {
        "colab": {
          "base_uri": "https://localhost:8080/"
        },
        "id": "HRQZFeF1SqeJ",
        "outputId": "a1cfed22-f700-4b93-bd36-1280430e1dc8"
      },
      "execution_count": 18,
      "outputs": [
        {
          "output_type": "stream",
          "name": "stdout",
          "text": [
            "  Sex  Length  Diameter  Height  Whole weight  Shucked weight  Viscera weight  \\\n",
            "0   M   0.455     0.365   0.095        0.5140          0.2245          0.1010   \n",
            "1   M   0.350     0.265   0.090        0.2255          0.0995          0.0485   \n",
            "2   F   0.530     0.420   0.135        0.6770          0.2565          0.1415   \n",
            "3   M   0.440     0.365   0.125        0.5160          0.2155          0.1140   \n",
            "4   I   0.330     0.255   0.080        0.2050          0.0895          0.0395   \n",
            "\n",
            "   Shell weight  Rings  \n",
            "0         0.150     15  \n",
            "1         0.070      7  \n",
            "2         0.210      9  \n",
            "3         0.155     10  \n",
            "4         0.055      7  \n"
          ]
        }
      ]
    },
    {
      "cell_type": "code",
      "source": [
        "#Questao 5 DF\n",
        "# Calculando a média das variáveis agrupadas por 'Sex'\n",
        "media = df.groupby('Sex')[['Length', 'Diameter', 'Height', 'Whole weight', 'Rings']].mean()\n",
        "\n",
        "# Apresentando o dataframe\n",
        "print(media)"
      ],
      "metadata": {
        "colab": {
          "base_uri": "https://localhost:8080/"
        },
        "id": "ytVYtdwwS66y",
        "outputId": "a6e16138-a39f-40d7-811c-288d7292c843"
      },
      "execution_count": 19,
      "outputs": [
        {
          "output_type": "stream",
          "name": "stdout",
          "text": [
            "       Length  Diameter    Height  Whole weight      Rings\n",
            "Sex                                                       \n",
            "F    0.579093  0.454732  0.158011      1.046532  11.129304\n",
            "I    0.427746  0.326494  0.107996      0.431363   7.890462\n",
            "M    0.561391  0.439287  0.151381      0.991459  10.705497\n"
          ]
        }
      ]
    },
    {
      "cell_type": "code",
      "source": [
        "#Questao 6\n",
        "# Carga dos dados\n",
        "df = pd.read_csv('https://raw.githubusercontent.com/cassiusf/datasets/main/exemplo_dataset.csv')\n",
        "\n",
        "# Apresentando a base de dados\n",
        "print(df.head())"
      ],
      "metadata": {
        "colab": {
          "base_uri": "https://localhost:8080/"
        },
        "id": "eXmpMPeEsz3g",
        "outputId": "b904f2d4-e6c2-4264-b54f-6401eb36c1d7"
      },
      "execution_count": 20,
      "outputs": [
        {
          "output_type": "stream",
          "name": "stdout",
          "text": [
            "  ID\\tEGF_Baseline\\tEGF_Stimulus\n",
            "0      FBgn0029994\\t-1.25\\t-0.27\n",
            "1       FBgn0037191\\t-1.05\\t0.78\n",
            "2        FBgn0036810\\t2.08\\t1.34\n",
            "3        FBgn0033320\\t1.15\\t0.45\n",
            "4      FBgn0051156\\t-1.77\\t-0.76\n"
          ]
        }
      ]
    },
    {
      "cell_type": "code",
      "source": [
        "#QUestao 7\n",
        "# Carga para a base de dados\n",
        "df = pd.read_json('https://raw.githubusercontent.com/domoritz/maps/master/data/iris.json')\n",
        "\n",
        "# Calculando a média e a mediana das variáveis numéricas por espécie\n",
        "media = df.groupby('species')[['sepalWidth', 'sepalLength', 'petalWidth', 'petalLength']].mean()\n",
        "mediana = df.groupby('species')[['sepalWidth', 'sepalLength', 'petalWidth', 'petalLength']].median()\n",
        "\n",
        "# Apresentando a média e a mediana\n",
        "print('Média:\\n', media)\n",
        "print('\\nMediana:\\n', mediana)\n"
      ],
      "metadata": {
        "colab": {
          "base_uri": "https://localhost:8080/"
        },
        "id": "SmDs6y6xtlpT",
        "outputId": "d652f73c-c3ac-4829-9682-b5236829cbb2"
      },
      "execution_count": 21,
      "outputs": [
        {
          "output_type": "stream",
          "name": "stdout",
          "text": [
            "Média:\n",
            "             sepalWidth  sepalLength  petalWidth  petalLength\n",
            "species                                                     \n",
            "setosa           3.428        5.006       0.246        1.462\n",
            "versicolor       2.770        5.936       1.326        4.260\n",
            "virginica        2.974        6.588       2.026        5.552\n",
            "\n",
            "Mediana:\n",
            "             sepalWidth  sepalLength  petalWidth  petalLength\n",
            "species                                                     \n",
            "setosa             3.4          5.0         0.2         1.50\n",
            "versicolor         2.8          5.9         1.3         4.35\n",
            "virginica          3.0          6.5         2.0         5.55\n"
          ]
        }
      ]
    },
    {
      "cell_type": "code",
      "source": [
        "#Questao 8\n",
        "import pandas as pd\n",
        "\n",
        "# Carregando o arquivo CSV, tive a preferencia de realizar o upload ao invés de linkar o arquivo.\n",
        "df = pd.read_csv('AccountData.csv')\n",
        "\n",
        "# Verificando os tipos de dados\n",
        "print(df.dtypes)"
      ],
      "metadata": {
        "colab": {
          "base_uri": "https://localhost:8080/"
        },
        "id": "AEl6qmuOulVL",
        "outputId": "b550d2b7-3203-456e-b92c-6b0c1ea76ee2"
      },
      "execution_count": 22,
      "outputs": [
        {
          "output_type": "stream",
          "name": "stdout",
          "text": [
            "Transaction Number     int64\n",
            "Date                  object\n",
            "Description           object\n",
            "Memo                  object\n",
            "Category              object\n",
            "Transaction Amount    object\n",
            "Balance               object\n",
            "Temp 1                object\n",
            "dtype: object\n"
          ]
        }
      ]
    },
    {
      "cell_type": "code",
      "source": [
        "# tratando os dados removendo o dólar e convertendo para float\n",
        "df['Transaction Amount'] = df['Transaction Amount'].replace('[\\$,]', '', regex=True)\n"
      ],
      "metadata": {
        "id": "rDE-ZWkmvtef"
      },
      "execution_count": 24,
      "outputs": []
    },
    {
      "cell_type": "code",
      "source": [
        "print(df.head)"
      ],
      "metadata": {
        "colab": {
          "base_uri": "https://localhost:8080/"
        },
        "id": "6-wmaBxEwakW",
        "outputId": "63dd4a73-0bb0-4ef3-9065-ca09a731d758"
      },
      "execution_count": 36,
      "outputs": [
        {
          "output_type": "stream",
          "name": "stdout",
          "text": [
            "<bound method NDFrame.head of       Transaction Number       Date            Description   \\\n",
            "0                   1001   1/1/2017         BALANCE TRANSER   \n",
            "1                  31650   1/1/2017          ATM WITHDRAWAL   \n",
            "2                  31617   1/1/2017  PAYMENT/TRANSFER DEBIT   \n",
            "3                  31618   1/2/2017  PAYMENT/TRANSFER DEBIT   \n",
            "4                  31621   1/3/2017  PAYMENT/TRANSFER DEBIT   \n",
            "...                  ...        ...                     ...   \n",
            "1000               32553  3/24/2019  PAYMENT/TRANSFER DEBIT   \n",
            "1001               32556  3/25/2019  PAYMENT/TRANSFER DEBIT   \n",
            "1002               32555  3/25/2019  PAYMENT/TRANSFER DEBIT   \n",
            "1003               32558  3/26/2019  PAYMENT/TRANSFER DEBIT   \n",
            "1004               32557  3/26/2019          DEBIT PURCHASE   \n",
            "\n",
            "                                      Memo          Category  \\\n",
            "0                From old checking account          Transfer   \n",
            "1                                 7-11 ATM     Uncategorized   \n",
            "2                  Private Island Mortgage           Housing   \n",
            "3                Emergency Shuttle Standby  Auto & Transport   \n",
            "4                    Universal Subway Pass  Auto & Transport   \n",
            "...                                    ...               ...   \n",
            "1000                    Personal Concierge     Entertainment   \n",
            "1001  Clone maintenance / Health Insurance        Insurance    \n",
            "1002             AI Machine Learning Loans             Loans   \n",
            "1003                       Personal Lawyer    Fees & Charges   \n",
            "1004                Hamilton, Private Show     Entertainment   \n",
            "\n",
            "     Transaction Amount       Balance       Temp 1  \n",
            "0            200000.00   $250,000.00   Occaisional  \n",
            "1              (402.50)  $249,597.50   Occaisional  \n",
            "2           (105062.35)  $144,535.15     Recurring  \n",
            "3            (10056.87)  $134,478.28     Recurring  \n",
            "4             (2846.87)  $131,631.41     Recurring  \n",
            "...                 ...           ...          ...  \n",
            "1000          (2506.99)  $115,503.41     Recurring  \n",
            "1001          (2305.21)  $113,198.20     Recurring  \n",
            "1002         (13020.32)  $100,177.88     Recurring  \n",
            "1003          (2966.35)   $97,211.53     Recurring  \n",
            "1004         (25006.35)   $72,205.18   Occaisional  \n",
            "\n",
            "[1005 rows x 8 columns]>\n"
          ]
        }
      ]
    },
    {
      "cell_type": "code",
      "source": [
        "# Convertendo strings para minúsculas\n",
        "df['Description '] = df['Description '].str.lower()"
      ],
      "metadata": {
        "id": "-HTBOG8YxCs7"
      },
      "execution_count": 37,
      "outputs": []
    },
    {
      "cell_type": "code",
      "source": [
        "# Removendo linhas com valores ausentes\n",
        "df = df.dropna()"
      ],
      "metadata": {
        "id": "WErwjv_5w67o"
      },
      "execution_count": 26,
      "outputs": []
    },
    {
      "cell_type": "code",
      "source": [
        "# Convertendo strings em categorias\n",
        "df['Category'] = df['Category'].astype('category')\n"
      ],
      "metadata": {
        "id": "T6oNDyfbyafs"
      },
      "execution_count": 35,
      "outputs": []
    }
  ]
}